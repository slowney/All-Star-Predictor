{
 "cells": [
  {
   "attachments": {},
   "cell_type": "markdown",
   "metadata": {},
   "source": [
    "# CS634 Data Mining - Term Project\n",
    "\n",
    "Table of Contents:\n",
    "- [Part 1: Modules, Data Imports, and Functions](#part-1-modules-data-imports-and-functions)\n",
    "- [Part 2: Exploratory Analysis](#part-2-exploratory-analysis)\n",
    "- [Part 3: Data Cleaning and Preprocessing](#part-3-data-cleaning-and-preprocessing)\n",
    "- [Part 4: Decision Tree Classifier](#part-4-decision-tree-classifier)\n",
    "- [Part 5: Logistic Regression Model](#part-5-logistic-regression-model)\n",
    "- [Part 6: Conclusion](#part-6-conclusion)"
   ]
  },
  {
   "attachments": {},
   "cell_type": "markdown",
   "metadata": {},
   "source": [
    "### Part 1: Modules, Data Imports, and Functions"
   ]
  },
  {
   "cell_type": "code",
   "execution_count": 24,
   "metadata": {},
   "outputs": [],
   "source": [
    "#Avoid unnecessary warnings\n",
    "import warnings\n",
    "warnings.simplefilter(action='ignore', category=FutureWarning)\n",
    "\n",
    "#General Python Modules\n",
    "import pandas as pd\n",
    "import numpy as np\n",
    "import matplotlib.pyplot as plt\n",
    "from collections import Counter\n",
    "\n",
    "#Decision Tree Modules\n",
    "from sklearn.tree import DecisionTreeClassifier\n",
    "from sklearn.model_selection import train_test_split\n",
    "from sklearn.metrics import f1_score, confusion_matrix, ConfusionMatrixDisplay, accuracy_score\n",
    "\n",
    "#Logistic Regression Module\n",
    "from sklearn import linear_model\n",
    "\n",
    "#Classification Imbalance\n",
    "from imblearn.over_sampling import RandomOverSampler\n",
    "\n",
    "#Load Raw Data\n",
    "pitching_raw = pd.read_csv(\"Pitching.csv\")\n",
    "allstar_raw = pd.read_csv(\"AllstarFull.csv\")"
   ]
  },
  {
   "cell_type": "code",
   "execution_count": 25,
   "metadata": {},
   "outputs": [],
   "source": [
    "#Functions\n",
    "def perNine(row,stat1,stat2):\n",
    "    value = row[stat1]/row[stat2]\n",
    "    return value"
   ]
  },
  {
   "attachments": {},
   "cell_type": "markdown",
   "metadata": {},
   "source": [
    "### Part 2: Exploratory Analysis"
   ]
  },
  {
   "cell_type": "code",
   "execution_count": 26,
   "metadata": {},
   "outputs": [
    {
     "data": {
      "text/html": [
       "<div>\n",
       "<style scoped>\n",
       "    .dataframe tbody tr th:only-of-type {\n",
       "        vertical-align: middle;\n",
       "    }\n",
       "\n",
       "    .dataframe tbody tr th {\n",
       "        vertical-align: top;\n",
       "    }\n",
       "\n",
       "    .dataframe thead th {\n",
       "        text-align: right;\n",
       "    }\n",
       "</style>\n",
       "<table border=\"1\" class=\"dataframe\">\n",
       "  <thead>\n",
       "    <tr style=\"text-align: right;\">\n",
       "      <th></th>\n",
       "      <th>playerID</th>\n",
       "      <th>yearID</th>\n",
       "      <th>stint</th>\n",
       "      <th>teamID</th>\n",
       "      <th>lgID</th>\n",
       "      <th>W</th>\n",
       "      <th>L</th>\n",
       "      <th>G</th>\n",
       "      <th>GS</th>\n",
       "      <th>CG</th>\n",
       "      <th>...</th>\n",
       "      <th>IBB</th>\n",
       "      <th>WP</th>\n",
       "      <th>HBP</th>\n",
       "      <th>BK</th>\n",
       "      <th>BFP</th>\n",
       "      <th>GF</th>\n",
       "      <th>R</th>\n",
       "      <th>SH</th>\n",
       "      <th>SF</th>\n",
       "      <th>GIDP</th>\n",
       "    </tr>\n",
       "  </thead>\n",
       "  <tbody>\n",
       "    <tr>\n",
       "      <th>0</th>\n",
       "      <td>bechtge01</td>\n",
       "      <td>1871</td>\n",
       "      <td>1</td>\n",
       "      <td>PH1</td>\n",
       "      <td>NaN</td>\n",
       "      <td>1</td>\n",
       "      <td>2</td>\n",
       "      <td>3</td>\n",
       "      <td>3</td>\n",
       "      <td>2</td>\n",
       "      <td>...</td>\n",
       "      <td>NaN</td>\n",
       "      <td>NaN</td>\n",
       "      <td>NaN</td>\n",
       "      <td>0</td>\n",
       "      <td>NaN</td>\n",
       "      <td>NaN</td>\n",
       "      <td>42</td>\n",
       "      <td>NaN</td>\n",
       "      <td>NaN</td>\n",
       "      <td>NaN</td>\n",
       "    </tr>\n",
       "    <tr>\n",
       "      <th>1</th>\n",
       "      <td>brainas01</td>\n",
       "      <td>1871</td>\n",
       "      <td>1</td>\n",
       "      <td>WS3</td>\n",
       "      <td>NaN</td>\n",
       "      <td>12</td>\n",
       "      <td>15</td>\n",
       "      <td>30</td>\n",
       "      <td>30</td>\n",
       "      <td>30</td>\n",
       "      <td>...</td>\n",
       "      <td>NaN</td>\n",
       "      <td>NaN</td>\n",
       "      <td>NaN</td>\n",
       "      <td>0</td>\n",
       "      <td>NaN</td>\n",
       "      <td>NaN</td>\n",
       "      <td>292</td>\n",
       "      <td>NaN</td>\n",
       "      <td>NaN</td>\n",
       "      <td>NaN</td>\n",
       "    </tr>\n",
       "    <tr>\n",
       "      <th>2</th>\n",
       "      <td>fergubo01</td>\n",
       "      <td>1871</td>\n",
       "      <td>1</td>\n",
       "      <td>NY2</td>\n",
       "      <td>NaN</td>\n",
       "      <td>0</td>\n",
       "      <td>0</td>\n",
       "      <td>1</td>\n",
       "      <td>0</td>\n",
       "      <td>0</td>\n",
       "      <td>...</td>\n",
       "      <td>NaN</td>\n",
       "      <td>NaN</td>\n",
       "      <td>NaN</td>\n",
       "      <td>0</td>\n",
       "      <td>NaN</td>\n",
       "      <td>NaN</td>\n",
       "      <td>9</td>\n",
       "      <td>NaN</td>\n",
       "      <td>NaN</td>\n",
       "      <td>NaN</td>\n",
       "    </tr>\n",
       "    <tr>\n",
       "      <th>3</th>\n",
       "      <td>fishech01</td>\n",
       "      <td>1871</td>\n",
       "      <td>1</td>\n",
       "      <td>RC1</td>\n",
       "      <td>NaN</td>\n",
       "      <td>4</td>\n",
       "      <td>16</td>\n",
       "      <td>24</td>\n",
       "      <td>24</td>\n",
       "      <td>22</td>\n",
       "      <td>...</td>\n",
       "      <td>NaN</td>\n",
       "      <td>NaN</td>\n",
       "      <td>NaN</td>\n",
       "      <td>0</td>\n",
       "      <td>NaN</td>\n",
       "      <td>NaN</td>\n",
       "      <td>257</td>\n",
       "      <td>NaN</td>\n",
       "      <td>NaN</td>\n",
       "      <td>NaN</td>\n",
       "    </tr>\n",
       "    <tr>\n",
       "      <th>4</th>\n",
       "      <td>fleetfr01</td>\n",
       "      <td>1871</td>\n",
       "      <td>1</td>\n",
       "      <td>NY2</td>\n",
       "      <td>NaN</td>\n",
       "      <td>0</td>\n",
       "      <td>1</td>\n",
       "      <td>1</td>\n",
       "      <td>1</td>\n",
       "      <td>1</td>\n",
       "      <td>...</td>\n",
       "      <td>NaN</td>\n",
       "      <td>NaN</td>\n",
       "      <td>NaN</td>\n",
       "      <td>0</td>\n",
       "      <td>NaN</td>\n",
       "      <td>NaN</td>\n",
       "      <td>21</td>\n",
       "      <td>NaN</td>\n",
       "      <td>NaN</td>\n",
       "      <td>NaN</td>\n",
       "    </tr>\n",
       "  </tbody>\n",
       "</table>\n",
       "<p>5 rows × 30 columns</p>\n",
       "</div>"
      ],
      "text/plain": [
       "    playerID  yearID  stint teamID lgID   W   L   G  GS  CG  ...  IBB  WP  \\\n",
       "0  bechtge01    1871      1    PH1  NaN   1   2   3   3   2  ...  NaN NaN   \n",
       "1  brainas01    1871      1    WS3  NaN  12  15  30  30  30  ...  NaN NaN   \n",
       "2  fergubo01    1871      1    NY2  NaN   0   0   1   0   0  ...  NaN NaN   \n",
       "3  fishech01    1871      1    RC1  NaN   4  16  24  24  22  ...  NaN NaN   \n",
       "4  fleetfr01    1871      1    NY2  NaN   0   1   1   1   1  ...  NaN NaN   \n",
       "\n",
       "   HBP  BK  BFP  GF    R  SH  SF  GIDP  \n",
       "0  NaN   0  NaN NaN   42 NaN NaN   NaN  \n",
       "1  NaN   0  NaN NaN  292 NaN NaN   NaN  \n",
       "2  NaN   0  NaN NaN    9 NaN NaN   NaN  \n",
       "3  NaN   0  NaN NaN  257 NaN NaN   NaN  \n",
       "4  NaN   0  NaN NaN   21 NaN NaN   NaN  \n",
       "\n",
       "[5 rows x 30 columns]"
      ]
     },
     "execution_count": 26,
     "metadata": {},
     "output_type": "execute_result"
    }
   ],
   "source": [
    "pitching_raw.head()"
   ]
  },
  {
   "cell_type": "code",
   "execution_count": 27,
   "metadata": {},
   "outputs": [
    {
     "data": {
      "text/plain": [
       "playerID        0\n",
       "yearID          0\n",
       "stint           0\n",
       "teamID          0\n",
       "lgID          131\n",
       "W               0\n",
       "L               0\n",
       "G               0\n",
       "GS              0\n",
       "CG              0\n",
       "SHO             0\n",
       "SV              0\n",
       "IPouts          1\n",
       "H               0\n",
       "ER              0\n",
       "HR              0\n",
       "BB              0\n",
       "SO              0\n",
       "BAOpp        1525\n",
       "ERA            90\n",
       "IBB         14575\n",
       "WP            133\n",
       "HBP           559\n",
       "BK              0\n",
       "BFP           239\n",
       "GF            133\n",
       "R               0\n",
       "SH          32900\n",
       "SF          32900\n",
       "GIDP        43394\n",
       "dtype: int64"
      ]
     },
     "execution_count": 27,
     "metadata": {},
     "output_type": "execute_result"
    }
   ],
   "source": [
    "pitching_raw.isnull().sum()"
   ]
  },
  {
   "cell_type": "code",
   "execution_count": 28,
   "metadata": {},
   "outputs": [
    {
     "data": {
      "text/html": [
       "<div>\n",
       "<style scoped>\n",
       "    .dataframe tbody tr th:only-of-type {\n",
       "        vertical-align: middle;\n",
       "    }\n",
       "\n",
       "    .dataframe tbody tr th {\n",
       "        vertical-align: top;\n",
       "    }\n",
       "\n",
       "    .dataframe thead th {\n",
       "        text-align: right;\n",
       "    }\n",
       "</style>\n",
       "<table border=\"1\" class=\"dataframe\">\n",
       "  <thead>\n",
       "    <tr style=\"text-align: right;\">\n",
       "      <th></th>\n",
       "      <th>playerID</th>\n",
       "      <th>yearID</th>\n",
       "      <th>gameNum</th>\n",
       "      <th>gameID</th>\n",
       "      <th>teamID</th>\n",
       "      <th>lgID</th>\n",
       "      <th>GP</th>\n",
       "      <th>startingPos</th>\n",
       "    </tr>\n",
       "  </thead>\n",
       "  <tbody>\n",
       "    <tr>\n",
       "      <th>0</th>\n",
       "      <td>gomezle01</td>\n",
       "      <td>1933</td>\n",
       "      <td>0</td>\n",
       "      <td>ALS193307060</td>\n",
       "      <td>NYA</td>\n",
       "      <td>AL</td>\n",
       "      <td>1.0</td>\n",
       "      <td>1.0</td>\n",
       "    </tr>\n",
       "    <tr>\n",
       "      <th>1</th>\n",
       "      <td>ferreri01</td>\n",
       "      <td>1933</td>\n",
       "      <td>0</td>\n",
       "      <td>ALS193307060</td>\n",
       "      <td>BOS</td>\n",
       "      <td>AL</td>\n",
       "      <td>1.0</td>\n",
       "      <td>2.0</td>\n",
       "    </tr>\n",
       "    <tr>\n",
       "      <th>2</th>\n",
       "      <td>gehrilo01</td>\n",
       "      <td>1933</td>\n",
       "      <td>0</td>\n",
       "      <td>ALS193307060</td>\n",
       "      <td>NYA</td>\n",
       "      <td>AL</td>\n",
       "      <td>1.0</td>\n",
       "      <td>3.0</td>\n",
       "    </tr>\n",
       "    <tr>\n",
       "      <th>3</th>\n",
       "      <td>gehrich01</td>\n",
       "      <td>1933</td>\n",
       "      <td>0</td>\n",
       "      <td>ALS193307060</td>\n",
       "      <td>DET</td>\n",
       "      <td>AL</td>\n",
       "      <td>1.0</td>\n",
       "      <td>4.0</td>\n",
       "    </tr>\n",
       "    <tr>\n",
       "      <th>4</th>\n",
       "      <td>dykesji01</td>\n",
       "      <td>1933</td>\n",
       "      <td>0</td>\n",
       "      <td>ALS193307060</td>\n",
       "      <td>CHA</td>\n",
       "      <td>AL</td>\n",
       "      <td>1.0</td>\n",
       "      <td>5.0</td>\n",
       "    </tr>\n",
       "  </tbody>\n",
       "</table>\n",
       "</div>"
      ],
      "text/plain": [
       "    playerID  yearID  gameNum        gameID teamID lgID   GP  startingPos\n",
       "0  gomezle01    1933        0  ALS193307060    NYA   AL  1.0          1.0\n",
       "1  ferreri01    1933        0  ALS193307060    BOS   AL  1.0          2.0\n",
       "2  gehrilo01    1933        0  ALS193307060    NYA   AL  1.0          3.0\n",
       "3  gehrich01    1933        0  ALS193307060    DET   AL  1.0          4.0\n",
       "4  dykesji01    1933        0  ALS193307060    CHA   AL  1.0          5.0"
      ]
     },
     "execution_count": 28,
     "metadata": {},
     "output_type": "execute_result"
    }
   ],
   "source": [
    "allstar_raw.head()"
   ]
  },
  {
   "cell_type": "code",
   "execution_count": 29,
   "metadata": {},
   "outputs": [
    {
     "data": {
      "text/plain": [
       "playerID          0\n",
       "yearID            0\n",
       "gameNum           0\n",
       "gameID           49\n",
       "teamID            0\n",
       "lgID              0\n",
       "GP               19\n",
       "startingPos    3489\n",
       "dtype: int64"
      ]
     },
     "execution_count": 29,
     "metadata": {},
     "output_type": "execute_result"
    }
   ],
   "source": [
    "allstar_raw.isnull().sum()"
   ]
  },
  {
   "cell_type": "markdown",
   "metadata": {},
   "source": [
    "We see immediately that there are a significant number of nulls in certain columns of both tables, likely because several of these stats were not tracked until the modern era of baseball. We also see that all star game information does not begin until 1933 (the year of the first all star game). Combining this information with some intuition regarding the significance of some of these more niche statistics, the first step of cleaning will be to filter for relevant data without a significant number of nulls."
   ]
  },
  {
   "attachments": {},
   "cell_type": "markdown",
   "metadata": {},
   "source": [
    "### Part 3: Data Cleaning and Preprocessing"
   ]
  },
  {
   "cell_type": "markdown",
   "metadata": {},
   "source": [
    "To begin, I need create some new columns to represent some important statistics on a per game basis. This is going to include stats like strikeouts per nine innings, walks per nine innings, etc. The goal is to get a dataset that looks like:\n",
    "\n",
    "playerID | yearID | Win/Game | K/9 | BB/9 | Hits/9 | ERA | BAOpp\n",
    "\n",
    "Before this, I need to filter the data to match the all star information (yearID >= 1933) and clean up the data."
   ]
  },
  {
   "cell_type": "markdown",
   "metadata": {},
   "source": [
    "Step 1 of cleaning is to select the columns I intend to use and get rid of rows with yearID's pre-1933."
   ]
  },
  {
   "cell_type": "code",
   "execution_count": 30,
   "metadata": {},
   "outputs": [
    {
     "name": "stdout",
     "output_type": "stream",
     "text": [
      "-----------------------------------------------\n",
      "Total number of rows: 34809\n",
      "\n",
      "Nulls in each column:\n",
      "playerID      0\n",
      "yearID        0\n",
      "W             0\n",
      "L             0\n",
      "G             0\n",
      "CG            0\n",
      "IPouts        1\n",
      "H             0\n",
      "BB            0\n",
      "SO            0\n",
      "BAOpp       641\n",
      "ERA          55\n",
      "dtype: int64\n",
      "-----------------------------------------------\n",
      "Total number of rows: 34121\n",
      "\n",
      "Nulls in each column after drop:\n",
      "playerID    0\n",
      "yearID      0\n",
      "W           0\n",
      "L           0\n",
      "G           0\n",
      "CG          0\n",
      "IPouts      0\n",
      "H           0\n",
      "BB          0\n",
      "SO          0\n",
      "BAOpp       0\n",
      "ERA         0\n",
      "dtype: int64\n",
      "-----------------------------------------------\n"
     ]
    }
   ],
   "source": [
    "pitching_clean = pitching_raw.copy()\n",
    "\n",
    "#Filter for relevant years\n",
    "pitching_clean = pitching_clean[pitching_clean['yearID'] >= 1933]\n",
    "\n",
    "#Select columns to work with\n",
    "cols = ['playerID','yearID','W','L','G','CG','IPouts','H','BB','SO','BAOpp','ERA']\n",
    "pitching_clean = pitching_clean[cols]\n",
    "\n",
    "#Visualize nulls\n",
    "print(\"-----------------------------------------------\")\n",
    "print(f'Total number of rows: {len(pitching_clean)}\\n\\nNulls in each column:')\n",
    "print(pitching_clean.isnull().sum())\n",
    "\n",
    "#Drop nulls\n",
    "print(\"-----------------------------------------------\")\n",
    "pitching_clean = pitching_clean.dropna()\n",
    "print(f'Total number of rows: {len(pitching_clean)}\\n\\nNulls in each column after drop:')\n",
    "print(pitching_clean.isnull().sum())\n",
    "print(\"-----------------------------------------------\")"
   ]
  },
  {
   "cell_type": "code",
   "execution_count": 31,
   "metadata": {},
   "outputs": [
    {
     "name": "stdout",
     "output_type": "stream",
     "text": [
      "<class 'pandas.core.frame.DataFrame'>\n",
      "Int64Index: 34121 entries, 9330 to 44138\n",
      "Data columns (total 12 columns):\n",
      " #   Column    Non-Null Count  Dtype  \n",
      "---  ------    --------------  -----  \n",
      " 0   playerID  34121 non-null  object \n",
      " 1   yearID    34121 non-null  int64  \n",
      " 2   W         34121 non-null  int64  \n",
      " 3   L         34121 non-null  int64  \n",
      " 4   G         34121 non-null  int64  \n",
      " 5   CG        34121 non-null  int64  \n",
      " 6   IPouts    34121 non-null  float64\n",
      " 7   H         34121 non-null  int64  \n",
      " 8   BB        34121 non-null  int64  \n",
      " 9   SO        34121 non-null  int64  \n",
      " 10  BAOpp     34121 non-null  float64\n",
      " 11  ERA       34121 non-null  float64\n",
      "dtypes: float64(3), int64(8), object(1)\n",
      "memory usage: 3.4+ MB\n"
     ]
    }
   ],
   "source": [
    "pitching_clean.info()"
   ]
  },
  {
   "cell_type": "code",
   "execution_count": 32,
   "metadata": {},
   "outputs": [
    {
     "data": {
      "text/html": [
       "<div>\n",
       "<style scoped>\n",
       "    .dataframe tbody tr th:only-of-type {\n",
       "        vertical-align: middle;\n",
       "    }\n",
       "\n",
       "    .dataframe tbody tr th {\n",
       "        vertical-align: top;\n",
       "    }\n",
       "\n",
       "    .dataframe thead th {\n",
       "        text-align: right;\n",
       "    }\n",
       "</style>\n",
       "<table border=\"1\" class=\"dataframe\">\n",
       "  <thead>\n",
       "    <tr style=\"text-align: right;\">\n",
       "      <th></th>\n",
       "      <th>playerID</th>\n",
       "      <th>yearID</th>\n",
       "      <th>W</th>\n",
       "      <th>L</th>\n",
       "      <th>G</th>\n",
       "      <th>CG</th>\n",
       "      <th>IPouts</th>\n",
       "      <th>H</th>\n",
       "      <th>BB</th>\n",
       "      <th>SO</th>\n",
       "      <th>BAOpp</th>\n",
       "      <th>ERA</th>\n",
       "    </tr>\n",
       "  </thead>\n",
       "  <tbody>\n",
       "    <tr>\n",
       "      <th>9330</th>\n",
       "      <td>allenjo02</td>\n",
       "      <td>1933</td>\n",
       "      <td>15</td>\n",
       "      <td>7</td>\n",
       "      <td>25</td>\n",
       "      <td>10</td>\n",
       "      <td>554.0</td>\n",
       "      <td>171</td>\n",
       "      <td>87</td>\n",
       "      <td>119</td>\n",
       "      <td>0.24</td>\n",
       "      <td>4.39</td>\n",
       "    </tr>\n",
       "    <tr>\n",
       "      <th>9331</th>\n",
       "      <td>andreiv01</td>\n",
       "      <td>1933</td>\n",
       "      <td>7</td>\n",
       "      <td>13</td>\n",
       "      <td>34</td>\n",
       "      <td>5</td>\n",
       "      <td>420.0</td>\n",
       "      <td>157</td>\n",
       "      <td>61</td>\n",
       "      <td>37</td>\n",
       "      <td>0.27</td>\n",
       "      <td>4.95</td>\n",
       "    </tr>\n",
       "    <tr>\n",
       "      <th>9332</th>\n",
       "      <td>applepe01</td>\n",
       "      <td>1933</td>\n",
       "      <td>0</td>\n",
       "      <td>0</td>\n",
       "      <td>1</td>\n",
       "      <td>0</td>\n",
       "      <td>6.0</td>\n",
       "      <td>3</td>\n",
       "      <td>1</td>\n",
       "      <td>0</td>\n",
       "      <td>0.37</td>\n",
       "      <td>0.00</td>\n",
       "    </tr>\n",
       "    <tr>\n",
       "      <th>9333</th>\n",
       "      <td>aukerel01</td>\n",
       "      <td>1933</td>\n",
       "      <td>3</td>\n",
       "      <td>3</td>\n",
       "      <td>15</td>\n",
       "      <td>2</td>\n",
       "      <td>165.0</td>\n",
       "      <td>63</td>\n",
       "      <td>25</td>\n",
       "      <td>17</td>\n",
       "      <td>0.28</td>\n",
       "      <td>5.24</td>\n",
       "    </tr>\n",
       "    <tr>\n",
       "      <th>9334</th>\n",
       "      <td>barredi01</td>\n",
       "      <td>1933</td>\n",
       "      <td>4</td>\n",
       "      <td>4</td>\n",
       "      <td>15</td>\n",
       "      <td>3</td>\n",
       "      <td>211.0</td>\n",
       "      <td>74</td>\n",
       "      <td>49</td>\n",
       "      <td>26</td>\n",
       "      <td>0.27</td>\n",
       "      <td>5.76</td>\n",
       "    </tr>\n",
       "  </tbody>\n",
       "</table>\n",
       "</div>"
      ],
      "text/plain": [
       "       playerID  yearID   W   L   G  CG  IPouts    H  BB   SO  BAOpp   ERA\n",
       "9330  allenjo02    1933  15   7  25  10   554.0  171  87  119   0.24  4.39\n",
       "9331  andreiv01    1933   7  13  34   5   420.0  157  61   37   0.27  4.95\n",
       "9332  applepe01    1933   0   0   1   0     6.0    3   1    0   0.37  0.00\n",
       "9333  aukerel01    1933   3   3  15   2   165.0   63  25   17   0.28  5.24\n",
       "9334  barredi01    1933   4   4  15   3   211.0   74  49   26   0.27  5.76"
      ]
     },
     "execution_count": 32,
     "metadata": {},
     "output_type": "execute_result"
    }
   ],
   "source": [
    "pitching_clean.head()"
   ]
  },
  {
   "cell_type": "markdown",
   "metadata": {},
   "source": [
    "I'm now left with 34,121 rows to work with. \n",
    "\n",
    "The next step is to add a boolean column for whether or not they were selected to the all star team. I can be a little tricky here by merging the two datasets based on playerID and yearID and then creating a column that checks for nulls in the gameID. If nulls exist, there was no gameID for the player in that year and so they weren't an all star."
   ]
  },
  {
   "cell_type": "code",
   "execution_count": 33,
   "metadata": {},
   "outputs": [
    {
     "data": {
      "text/html": [
       "<div>\n",
       "<style scoped>\n",
       "    .dataframe tbody tr th:only-of-type {\n",
       "        vertical-align: middle;\n",
       "    }\n",
       "\n",
       "    .dataframe tbody tr th {\n",
       "        vertical-align: top;\n",
       "    }\n",
       "\n",
       "    .dataframe thead th {\n",
       "        text-align: right;\n",
       "    }\n",
       "</style>\n",
       "<table border=\"1\" class=\"dataframe\">\n",
       "  <thead>\n",
       "    <tr style=\"text-align: right;\">\n",
       "      <th></th>\n",
       "      <th>playerID</th>\n",
       "      <th>yearID</th>\n",
       "      <th>W</th>\n",
       "      <th>L</th>\n",
       "      <th>G</th>\n",
       "      <th>CG</th>\n",
       "      <th>IPouts</th>\n",
       "      <th>H</th>\n",
       "      <th>BB</th>\n",
       "      <th>SO</th>\n",
       "      <th>ERA</th>\n",
       "      <th>BAOpp</th>\n",
       "      <th>AllStar</th>\n",
       "    </tr>\n",
       "  </thead>\n",
       "  <tbody>\n",
       "    <tr>\n",
       "      <th>0</th>\n",
       "      <td>allenjo02</td>\n",
       "      <td>1933</td>\n",
       "      <td>15</td>\n",
       "      <td>7</td>\n",
       "      <td>25</td>\n",
       "      <td>10</td>\n",
       "      <td>554.0</td>\n",
       "      <td>171</td>\n",
       "      <td>87</td>\n",
       "      <td>119</td>\n",
       "      <td>4.39</td>\n",
       "      <td>0.24</td>\n",
       "      <td>0</td>\n",
       "    </tr>\n",
       "    <tr>\n",
       "      <th>1</th>\n",
       "      <td>andreiv01</td>\n",
       "      <td>1933</td>\n",
       "      <td>7</td>\n",
       "      <td>13</td>\n",
       "      <td>34</td>\n",
       "      <td>5</td>\n",
       "      <td>420.0</td>\n",
       "      <td>157</td>\n",
       "      <td>61</td>\n",
       "      <td>37</td>\n",
       "      <td>4.95</td>\n",
       "      <td>0.27</td>\n",
       "      <td>0</td>\n",
       "    </tr>\n",
       "    <tr>\n",
       "      <th>2</th>\n",
       "      <td>applepe01</td>\n",
       "      <td>1933</td>\n",
       "      <td>0</td>\n",
       "      <td>0</td>\n",
       "      <td>1</td>\n",
       "      <td>0</td>\n",
       "      <td>6.0</td>\n",
       "      <td>3</td>\n",
       "      <td>1</td>\n",
       "      <td>0</td>\n",
       "      <td>0.00</td>\n",
       "      <td>0.37</td>\n",
       "      <td>0</td>\n",
       "    </tr>\n",
       "    <tr>\n",
       "      <th>3</th>\n",
       "      <td>aukerel01</td>\n",
       "      <td>1933</td>\n",
       "      <td>3</td>\n",
       "      <td>3</td>\n",
       "      <td>15</td>\n",
       "      <td>2</td>\n",
       "      <td>165.0</td>\n",
       "      <td>63</td>\n",
       "      <td>25</td>\n",
       "      <td>17</td>\n",
       "      <td>5.24</td>\n",
       "      <td>0.28</td>\n",
       "      <td>0</td>\n",
       "    </tr>\n",
       "    <tr>\n",
       "      <th>4</th>\n",
       "      <td>barredi01</td>\n",
       "      <td>1933</td>\n",
       "      <td>4</td>\n",
       "      <td>4</td>\n",
       "      <td>15</td>\n",
       "      <td>3</td>\n",
       "      <td>211.0</td>\n",
       "      <td>74</td>\n",
       "      <td>49</td>\n",
       "      <td>26</td>\n",
       "      <td>5.76</td>\n",
       "      <td>0.27</td>\n",
       "      <td>0</td>\n",
       "    </tr>\n",
       "  </tbody>\n",
       "</table>\n",
       "</div>"
      ],
      "text/plain": [
       "    playerID  yearID   W   L   G  CG  IPouts    H  BB   SO   ERA  BAOpp  \\\n",
       "0  allenjo02    1933  15   7  25  10   554.0  171  87  119  4.39   0.24   \n",
       "1  andreiv01    1933   7  13  34   5   420.0  157  61   37  4.95   0.27   \n",
       "2  applepe01    1933   0   0   1   0     6.0    3   1    0  0.00   0.37   \n",
       "3  aukerel01    1933   3   3  15   2   165.0   63  25   17  5.24   0.28   \n",
       "4  barredi01    1933   4   4  15   3   211.0   74  49   26  5.76   0.27   \n",
       "\n",
       "   AllStar  \n",
       "0        0  \n",
       "1        0  \n",
       "2        0  \n",
       "3        0  \n",
       "4        0  "
      ]
     },
     "execution_count": 33,
     "metadata": {},
     "output_type": "execute_result"
    }
   ],
   "source": [
    "#Merge dataframes\n",
    "pitching_allstar = pd.merge(pitching_clean,allstar_raw,how='left',left_on=['playerID','yearID'], right_on = ['playerID','yearID'])\n",
    "\n",
    "#Generate classification\n",
    "pitching_allstar['AllStar'] = np.where(pitching_allstar['gameID'].isna(), 0, 1 )\n",
    "\n",
    "#Select columns to work with\n",
    "cols = ['playerID','yearID','W','L','G','CG','IPouts','H','BB','SO','ERA','BAOpp','AllStar']\n",
    "pitching_allstar = pitching_allstar[cols]\n",
    "pitching_allstar.head()"
   ]
  },
  {
   "attachments": {},
   "cell_type": "markdown",
   "metadata": {},
   "source": [
    "We now have a clean dataset with which I can condense/create some more descriptive stats."
   ]
  },
  {
   "cell_type": "code",
   "execution_count": 44,
   "metadata": {},
   "outputs": [
    {
     "name": "stdout",
     "output_type": "stream",
     "text": [
      "-----------------------------------------------\n",
      "Before:\n",
      "     playerID  yearID   W   L   G  CG    H  BB   SO   ERA  BAOpp  AllStar  \\\n",
      "0  allenjo02    1933  15   7  25  10  171  87  119  4.39   0.24        0   \n",
      "1  andreiv01    1933   7  13  34   5  157  61   37  4.95   0.27        0   \n",
      "2  applepe01    1933   0   0   1   0    3   1    0  0.00   0.37        0   \n",
      "3  aukerel01    1933   3   3  15   2   63  25   17  5.24   0.28        0   \n",
      "4  barredi01    1933   4   4  15   3   74  49   26  5.76   0.27        0   \n",
      "\n",
      "   NineInnings  \n",
      "0    20.518519  \n",
      "1    15.555556  \n",
      "2     0.222222  \n",
      "3     6.111111  \n",
      "4     7.814815  \n",
      "-----------------------------------------------\n",
      "After:\n",
      "         playerID  yearID    Wins_9  Losses_9        K_9      BB_9     Hits_9  \\\n",
      "0      allenjo02    1933  0.731047  0.341155   5.799639  4.240072   8.333935   \n",
      "1      andreiv01    1933  0.450000  0.835714   2.378571  3.921429  10.092857   \n",
      "2      applepe01    1933  0.000000  0.000000   0.000000  4.500000  13.500000   \n",
      "3      aukerel01    1933  0.490909  0.490909   2.781818  4.090909  10.309091   \n",
      "4      barredi01    1933  0.511848  0.511848   3.327014  6.270142   9.469194   \n",
      "...          ...     ...       ...       ...        ...       ...        ...   \n",
      "34174  youngch03    2015  0.802703  0.437838   6.056757  3.137838   6.640541   \n",
      "34175  zieglbr01    2015  0.000000  0.397059   4.764706  2.250000   6.352941   \n",
      "34176  zimmejo02    2015  0.580165  0.446281   7.319008  1.740496   9.104132   \n",
      "34177   zitoba01    2015  0.000000  0.000000   2.571429  7.714286  15.428571   \n",
      "34178   zychto01    2015  0.000000  0.000000  11.781818  1.472727   8.345455   \n",
      "\n",
      "       CG    ERA  AllStar  \n",
      "0      10   4.39        0  \n",
      "1       5   4.95        0  \n",
      "2       0   0.00        0  \n",
      "3       2   5.24        0  \n",
      "4       3   5.76        0  \n",
      "...    ..    ...      ...  \n",
      "34174   0   3.06        0  \n",
      "34175   0   1.85        0  \n",
      "34176   0   3.66        0  \n",
      "34177   0  10.29        0  \n",
      "34178   0   2.45        0  \n",
      "\n",
      "[34179 rows x 10 columns]\n",
      "-----------------------------------------------\n"
     ]
    }
   ],
   "source": [
    "#Create new column using IPouts to represent 9 inning intervals --> drop IPouts\n",
    "print(\"-----------------------------------------------\")\n",
    "pitchingDF = pitching_allstar.copy()\n",
    "pitchingDF['NineInnings'] = pitchingDF['IPouts'].div(27)\n",
    "pitchingDF = pitchingDF.drop(['IPouts'],axis=1)\n",
    "print(\"Before:\\n\",pitchingDF.head())\n",
    "print(\"-----------------------------------------------\")\n",
    "\n",
    "#Apply the perNine() function to each row to create more descriptive columns\n",
    "pitchingDF['Wins_9'] = pitchingDF.apply(lambda row: perNine(row,'W','NineInnings'),axis=1)\n",
    "pitchingDF['Losses_9'] = pitchingDF.apply(lambda row: perNine(row,'L','NineInnings'),axis=1)\n",
    "pitchingDF['K_9'] = pitchingDF.apply(lambda row: perNine(row,'SO','NineInnings'),axis=1)\n",
    "pitchingDF['BB_9'] = pitchingDF.apply(lambda row: perNine(row,'BB','NineInnings'),axis=1)\n",
    "pitchingDF['Hits_9'] = pitchingDF.apply(lambda row: perNine(row,'H','NineInnings'),axis=1)\n",
    "\n",
    "#Select columns for use in model creation\n",
    "cols = ['playerID','yearID','Wins_9','Losses_9','K_9','BB_9','Hits_9','CG','ERA','AllStar']\n",
    "pitchingDF_final = pitchingDF.copy()\n",
    "pitchingDF_final = pitchingDF_final[cols]\n",
    "print(\"After:\\n\",pitchingDF_final)\n",
    "print(\"-----------------------------------------------\")"
   ]
  },
  {
   "cell_type": "markdown",
   "metadata": {},
   "source": [
    "At this point I have a good starting point for a dataset to analyze. To confirm  accuracy, I'll check the info for Max Scherzer, an all star pitcher from 2013-2015."
   ]
  },
  {
   "cell_type": "code",
   "execution_count": 35,
   "metadata": {},
   "outputs": [
    {
     "data": {
      "text/html": [
       "<div>\n",
       "<style scoped>\n",
       "    .dataframe tbody tr th:only-of-type {\n",
       "        vertical-align: middle;\n",
       "    }\n",
       "\n",
       "    .dataframe tbody tr th {\n",
       "        vertical-align: top;\n",
       "    }\n",
       "\n",
       "    .dataframe thead th {\n",
       "        text-align: right;\n",
       "    }\n",
       "</style>\n",
       "<table border=\"1\" class=\"dataframe\">\n",
       "  <thead>\n",
       "    <tr style=\"text-align: right;\">\n",
       "      <th></th>\n",
       "      <th>playerID</th>\n",
       "      <th>yearID</th>\n",
       "      <th>Wins_9</th>\n",
       "      <th>Losses_9</th>\n",
       "      <th>K_9</th>\n",
       "      <th>BB_9</th>\n",
       "      <th>Hits_9</th>\n",
       "      <th>CG</th>\n",
       "      <th>ERA</th>\n",
       "      <th>AllStar</th>\n",
       "    </tr>\n",
       "  </thead>\n",
       "  <tbody>\n",
       "    <tr>\n",
       "      <th>28937</th>\n",
       "      <td>scherma01</td>\n",
       "      <td>2008</td>\n",
       "      <td>0.000000</td>\n",
       "      <td>0.642857</td>\n",
       "      <td>10.607143</td>\n",
       "      <td>3.375000</td>\n",
       "      <td>7.714286</td>\n",
       "      <td>0</td>\n",
       "      <td>3.05</td>\n",
       "      <td>0</td>\n",
       "    </tr>\n",
       "    <tr>\n",
       "      <th>29650</th>\n",
       "      <td>scherma01</td>\n",
       "      <td>2009</td>\n",
       "      <td>0.475538</td>\n",
       "      <td>0.581213</td>\n",
       "      <td>9.193738</td>\n",
       "      <td>3.328767</td>\n",
       "      <td>8.771037</td>\n",
       "      <td>0</td>\n",
       "      <td>4.12</td>\n",
       "      <td>0</td>\n",
       "    </tr>\n",
       "    <tr>\n",
       "      <th>30351</th>\n",
       "      <td>scherma01</td>\n",
       "      <td>2010</td>\n",
       "      <td>0.551959</td>\n",
       "      <td>0.505963</td>\n",
       "      <td>8.463373</td>\n",
       "      <td>3.219761</td>\n",
       "      <td>8.003407</td>\n",
       "      <td>0</td>\n",
       "      <td>3.50</td>\n",
       "      <td>0</td>\n",
       "    </tr>\n",
       "    <tr>\n",
       "      <th>31052</th>\n",
       "      <td>scherma01</td>\n",
       "      <td>2011</td>\n",
       "      <td>0.692308</td>\n",
       "      <td>0.415385</td>\n",
       "      <td>8.030769</td>\n",
       "      <td>2.584615</td>\n",
       "      <td>9.553846</td>\n",
       "      <td>0</td>\n",
       "      <td>4.43</td>\n",
       "      <td>0</td>\n",
       "    </tr>\n",
       "    <tr>\n",
       "      <th>31783</th>\n",
       "      <td>scherma01</td>\n",
       "      <td>2012</td>\n",
       "      <td>0.767318</td>\n",
       "      <td>0.335702</td>\n",
       "      <td>11.078153</td>\n",
       "      <td>2.877442</td>\n",
       "      <td>8.584369</td>\n",
       "      <td>0</td>\n",
       "      <td>3.74</td>\n",
       "      <td>0</td>\n",
       "    </tr>\n",
       "    <tr>\n",
       "      <th>32513</th>\n",
       "      <td>scherma01</td>\n",
       "      <td>2013</td>\n",
       "      <td>0.881804</td>\n",
       "      <td>0.125972</td>\n",
       "      <td>10.077760</td>\n",
       "      <td>2.351477</td>\n",
       "      <td>6.382582</td>\n",
       "      <td>0</td>\n",
       "      <td>2.90</td>\n",
       "      <td>1</td>\n",
       "    </tr>\n",
       "    <tr>\n",
       "      <th>33240</th>\n",
       "      <td>scherma01</td>\n",
       "      <td>2014</td>\n",
       "      <td>0.735250</td>\n",
       "      <td>0.204236</td>\n",
       "      <td>10.293495</td>\n",
       "      <td>2.573374</td>\n",
       "      <td>8.006051</td>\n",
       "      <td>1</td>\n",
       "      <td>3.15</td>\n",
       "      <td>1</td>\n",
       "    </tr>\n",
       "    <tr>\n",
       "      <th>34050</th>\n",
       "      <td>scherma01</td>\n",
       "      <td>2015</td>\n",
       "      <td>0.551020</td>\n",
       "      <td>0.472303</td>\n",
       "      <td>10.862974</td>\n",
       "      <td>1.338192</td>\n",
       "      <td>6.927114</td>\n",
       "      <td>4</td>\n",
       "      <td>2.79</td>\n",
       "      <td>1</td>\n",
       "    </tr>\n",
       "  </tbody>\n",
       "</table>\n",
       "</div>"
      ],
      "text/plain": [
       "        playerID  yearID    Wins_9  Losses_9        K_9      BB_9    Hits_9  \\\n",
       "28937  scherma01    2008  0.000000  0.642857  10.607143  3.375000  7.714286   \n",
       "29650  scherma01    2009  0.475538  0.581213   9.193738  3.328767  8.771037   \n",
       "30351  scherma01    2010  0.551959  0.505963   8.463373  3.219761  8.003407   \n",
       "31052  scherma01    2011  0.692308  0.415385   8.030769  2.584615  9.553846   \n",
       "31783  scherma01    2012  0.767318  0.335702  11.078153  2.877442  8.584369   \n",
       "32513  scherma01    2013  0.881804  0.125972  10.077760  2.351477  6.382582   \n",
       "33240  scherma01    2014  0.735250  0.204236  10.293495  2.573374  8.006051   \n",
       "34050  scherma01    2015  0.551020  0.472303  10.862974  1.338192  6.927114   \n",
       "\n",
       "       CG   ERA  AllStar  \n",
       "28937   0  3.05        0  \n",
       "29650   0  4.12        0  \n",
       "30351   0  3.50        0  \n",
       "31052   0  4.43        0  \n",
       "31783   0  3.74        0  \n",
       "32513   0  2.90        1  \n",
       "33240   1  3.15        1  \n",
       "34050   4  2.79        1  "
      ]
     },
     "execution_count": 35,
     "metadata": {},
     "output_type": "execute_result"
    }
   ],
   "source": [
    "pitchingDF_final[pitchingDF_final['playerID'] == 'scherma01']"
   ]
  },
  {
   "attachments": {},
   "cell_type": "markdown",
   "metadata": {},
   "source": [
    "And we can see that the data is accurate which gives me good confidence going forward. The first model I want to try is a decision tree model. This will use breakdowns of the features I created to predict whether or not they were selected to an all star game."
   ]
  },
  {
   "attachments": {},
   "cell_type": "markdown",
   "metadata": {},
   "source": [
    "### Part 4: Decision Tree Classifier"
   ]
  },
  {
   "cell_type": "code",
   "execution_count": 36,
   "metadata": {},
   "outputs": [],
   "source": [
    "#Define features and classifier for training and prediction\n",
    "features = ['Wins_9','Losses_9','K_9','BB_9','Hits_9','CG','ERA']\n",
    "\n",
    "X = pitchingDF_final[features]\n",
    "Y = pitchingDF_final['AllStar']\n",
    "\n",
    "#Normalize data by year such that performance is relative to other players in the same year\n",
    "normalized_DF = pitchingDF_final.loc[ : , pitchingDF_final.columns != 'AllStar'].groupby('yearID').transform(lambda x: (x - x.mean()) / x.std())\n",
    "normalized_DF['AllStar'] = pitchingDF_final['AllStar']\n",
    "\n",
    "X_norm = normalized_DF[features]\n",
    "Y_norm = normalized_DF['AllStar']"
   ]
  },
  {
   "attachments": {},
   "cell_type": "markdown",
   "metadata": {},
   "source": [
    "##### Non-normalized data"
   ]
  },
  {
   "cell_type": "code",
   "execution_count": 37,
   "metadata": {},
   "outputs": [
    {
     "name": "stdout",
     "output_type": "stream",
     "text": [
      "-----------------------------------------------\n",
      "Evaluation -\n",
      "Accuracy: 93.24%\n",
      "f1 score: 0.33\n",
      "-----------------------------------------------\n"
     ]
    },
    {
     "data": {
      "image/png": "[encoded data removed]",
      "text/plain": [
       "<Figure size 432x288 with 2 Axes>"
      ]
     },
     "metadata": {
      "needs_background": "light"
     },
     "output_type": "display_data"
    },
    {
     "name": "stdout",
     "output_type": "stream",
     "text": [
      "-----------------------------------------------\n"
     ]
    }
   ],
   "source": [
    "#Perform train/test split\n",
    "X_train, X_test, y_train, y_test = train_test_split(X, Y, test_size=0.2, random_state=1)\n",
    "\n",
    "#Create decision tree\n",
    "pitching_DecisionTree = DecisionTreeClassifier()\n",
    "\n",
    "#Training\n",
    "pitching_DecisionTree = pitching_DecisionTree.fit(X_train,y_train)\n",
    "\n",
    "#Prediction\n",
    "prediction = pitching_DecisionTree.predict(X_test)\n",
    "\n",
    "print(\"-----------------------------------------------\\nEvaluation -\")\n",
    "#Test Accuracy\n",
    "print(\"Accuracy: {}%\".format(round(accuracy_score(y_test, prediction)*100,2)))\n",
    "\n",
    "#f1 score\n",
    "print('f1 score:',round(f1_score(y_test, prediction),3))\n",
    "print(\"-----------------------------------------------\")\n",
    "\n",
    "#Confusion matrix\n",
    "cm = confusion_matrix(y_test, prediction)\n",
    "disp = ConfusionMatrixDisplay(confusion_matrix=cm, display_labels=pitching_DecisionTree.classes_)\n",
    "disp.plot()\n",
    "disp.ax_.set_title(\"Decision Tree: Non-normalized Confusion Matrix\")\n",
    "plt.show()\n",
    "print(\"-----------------------------------------------\")"
   ]
  },
  {
   "attachments": {},
   "cell_type": "markdown",
   "metadata": {},
   "source": [
    "This is pretty good accuracy already, but I want to consider the possibility that all star selection is relative to performance within a given year. That is, if I normalize the data by year such that the features measure success relative to other players during the same year, will accuracy improve?"
   ]
  },
  {
   "attachments": {},
   "cell_type": "markdown",
   "metadata": {},
   "source": [
    "##### Normalized Data"
   ]
  },
  {
   "cell_type": "code",
   "execution_count": 38,
   "metadata": {},
   "outputs": [
    {
     "name": "stdout",
     "output_type": "stream",
     "text": [
      "-----------------------------------------------\n",
      "Evaluation -\n",
      "Accuracy with normalization: 92.72%\n",
      "f1 score: 0.327\n",
      "-----------------------------------------------\n"
     ]
    },
    {
     "data": {
      "image/png": "[encoded data removed]",
      "text/plain": [
       "<Figure size 432x288 with 2 Axes>"
      ]
     },
     "metadata": {
      "needs_background": "light"
     },
     "output_type": "display_data"
    },
    {
     "name": "stdout",
     "output_type": "stream",
     "text": [
      "-----------------------------------------------\n"
     ]
    }
   ],
   "source": [
    "#Perform train/test split\n",
    "X_train, X_test, y_train, y_test = train_test_split(X_norm, Y_norm, test_size=0.2, random_state=0)\n",
    "\n",
    "#Create decision tree\n",
    "pitching_DecisionTree_normByYear = DecisionTreeClassifier()\n",
    "\n",
    "#Training \n",
    "pitching_DecisionTree_normByYear = pitching_DecisionTree_normByYear.fit(X_train,y_train)\n",
    "\n",
    "#prediciton\n",
    "prediction = pitching_DecisionTree_normByYear.predict(X_test)\n",
    "\n",
    "print(\"-----------------------------------------------\\nEvaluation -\")\n",
    "#Test accuracy\n",
    "print(\"Accuracy with normalization: {}%\".format(round(accuracy_score(y_test, prediction)*100,2)))\n",
    "\n",
    "#f1 score\n",
    "print('f1 score:',round(f1_score(y_test, prediction),3))\n",
    "print(\"-----------------------------------------------\")\n",
    "\n",
    "#Confusion matrix\n",
    "cm = confusion_matrix(y_test, prediction)\n",
    "disp = ConfusionMatrixDisplay(confusion_matrix=cm, display_labels=pitching_DecisionTree_normByYear.classes_)\n",
    "disp.plot()\n",
    "disp.ax_.set_title(\"Decision Tree: Normalized Confusion Matrix\")\n",
    "plt.show()\n",
    "print(\"-----------------------------------------------\")"
   ]
  },
  {
   "attachments": {},
   "cell_type": "markdown",
   "metadata": {},
   "source": [
    "To be honest, I expected this to improve the accuracy, but it was pretty ineffectual. I'm going to check if the data is imbalanced and, if so, oversample the smaller class to try to account for it."
   ]
  },
  {
   "cell_type": "code",
   "execution_count": 39,
   "metadata": {},
   "outputs": [
    {
     "name": "stdout",
     "output_type": "stream",
     "text": [
      "-----------------------------------------------\n",
      "The total number of True values in the AllStar column is 1642\n",
      "This is 4.8% of all values.\n",
      "-----------------------------------------------\n"
     ]
    }
   ],
   "source": [
    "print(\"-----------------------------------------------\")\n",
    "numAllStars = pitching_allstar['AllStar'].sum()\n",
    "print(f'The total number of True values in the AllStar column is {numAllStars}\\nThis is {round(numAllStars/len(pitching_allstar),3)*100}% of all values.')\n",
    "print(\"-----------------------------------------------\")"
   ]
  },
  {
   "attachments": {},
   "cell_type": "markdown",
   "metadata": {},
   "source": [
    "##### Oversampled Data"
   ]
  },
  {
   "cell_type": "code",
   "execution_count": 45,
   "metadata": {},
   "outputs": [
    {
     "name": "stdout",
     "output_type": "stream",
     "text": [
      "-----------------------------------------------\n",
      "Initial classification split:  Counter({0: 32537, 1: 1642})\n",
      "Oversampled classification split:  Counter({0: 32537, 1: 16268})\n",
      "-----------------------------------------------\n",
      "Evaluation -\n",
      "Accuracy with oversampling: 97.51%\n",
      "f1 score: 0.964\n",
      "-----------------------------------------------\n"
     ]
    },
    {
     "data": {
      "image/png": "[encoded data removed]",
      "text/plain": [
       "<Figure size 432x288 with 2 Axes>"
      ]
     },
     "metadata": {
      "needs_background": "light"
     },
     "output_type": "display_data"
    },
    {
     "name": "stdout",
     "output_type": "stream",
     "text": [
      "-----------------------------------------------\n"
     ]
    }
   ],
   "source": [
    "#Check the initial training data balance --> oversample --> recheck balance\n",
    "print(\"-----------------------------------------------\")\n",
    "print(\"Initial classification split: \", Counter(Y))\n",
    "\n",
    "oversample = RandomOverSampler(sampling_strategy=0.5)\n",
    "\n",
    "x_over, y_over = oversample.fit_resample(X_norm,Y_norm)\n",
    "\n",
    "print(\"Oversampled classification split: \", Counter(y_over))\n",
    "\n",
    "#Perform train/test split\n",
    "X_train, X_test, y_train, y_test = train_test_split(x_over, y_over, test_size=0.2, random_state=1)\n",
    "\n",
    "#Create decision tree\n",
    "pitching_DecisionTree_Oversample = DecisionTreeClassifier()\n",
    "\n",
    "#Training\n",
    "pitching_DecisionTree_Oversample = pitching_DecisionTree_Oversample.fit(X_train,y_train)\n",
    "\n",
    "#Prediction\n",
    "prediction = pitching_DecisionTree_Oversample.predict(X_test)\n",
    "\n",
    "print(\"-----------------------------------------------\\nEvaluation -\")\n",
    "#Test Accuracy\n",
    "print(\"Accuracy with oversampling: {}%\".format(round(accuracy_score(y_test, prediction)*100,2)))\n",
    "\n",
    "#f1 score\n",
    "print('f1 score:',round(f1_score(y_test, prediction),3))\n",
    "print(\"-----------------------------------------------\")\n",
    "\n",
    "#Confusion matrix\n",
    "cm = confusion_matrix(y_test, prediction)\n",
    "disp = ConfusionMatrixDisplay(confusion_matrix=cm, display_labels=pitching_DecisionTree_Oversample.classes_)\n",
    "disp.plot()\n",
    "disp.ax_.set_title(\"Decision Tree: Oversampled Confusion Matrix\")\n",
    "plt.show()\n",
    "print(\"-----------------------------------------------\")"
   ]
  },
  {
   "attachments": {},
   "cell_type": "markdown",
   "metadata": {},
   "source": [
    "This is much better! Evident in the confusion matrix is the very significant reduction in false negatives, as well as a smaller reduction in false positives. Additionally, the f1 score is much better, meaning the model performs better on the smaller class."
   ]
  },
  {
   "attachments": {},
   "cell_type": "markdown",
   "metadata": {},
   "source": [
    "### Part 5: Logistic Regression Model\n",
    "Out of curiosity, I want to see if a logistic regression model can achieve higher accuracy than the decision tree. I'm going to try it first with the base data, then the normalized data, and finally using the built in class_weight=balance to account for class imbalance."
   ]
  },
  {
   "attachments": {},
   "cell_type": "markdown",
   "metadata": {},
   "source": [
    "##### Non-nomalized Data"
   ]
  },
  {
   "cell_type": "code",
   "execution_count": 41,
   "metadata": {},
   "outputs": [
    {
     "name": "stdout",
     "output_type": "stream",
     "text": [
      "-----------------------------------------------\n",
      "Evaluation -\n",
      "Accuracy : 95.29%\n",
      "f1 score: 0.278\n",
      "-----------------------------------------------\n"
     ]
    },
    {
     "data": {
      "image/png": "[encoded data removed]",
      "text/plain": [
       "<Figure size 432x288 with 2 Axes>"
      ]
     },
     "metadata": {
      "needs_background": "light"
     },
     "output_type": "display_data"
    },
    {
     "name": "stdout",
     "output_type": "stream",
     "text": [
      "-----------------------------------------------\n"
     ]
    }
   ],
   "source": [
    "#Perform train/test split\n",
    "X_train, X_test, y_train, y_test = train_test_split(X, Y, test_size=0.2, random_state=0)\n",
    "\n",
    "#Create logistic regression object\n",
    "pitching_LogisticRegression = linear_model.LogisticRegression()\n",
    "\n",
    "#Training\n",
    "pitching_LogisticRegression.fit(X_train,y_train)\n",
    "\n",
    "#Prediction\n",
    "prediction = pitching_LogisticRegression.predict(X_test)\n",
    "\n",
    "print(\"-----------------------------------------------\\nEvaluation -\")\n",
    "#Test accuracy\n",
    "print (\"Accuracy : {}%\".format(round(accuracy_score(y_test, prediction)*100,2)))\n",
    "\n",
    "#f1 score\n",
    "print('f1 score:',round(f1_score(y_test, prediction),3))\n",
    "print(\"-----------------------------------------------\")\n",
    "\n",
    "#Confusion matrix\n",
    "cm = confusion_matrix(y_test, prediction)\n",
    "disp = ConfusionMatrixDisplay(confusion_matrix=cm, display_labels=pitching_LogisticRegression.classes_)\n",
    "disp.plot()\n",
    "disp.ax_.set_title(\"Logistic Regression: Non-normalized Confusion Matrix\")\n",
    "plt.show()\n",
    "print(\"-----------------------------------------------\")"
   ]
  },
  {
   "attachments": {},
   "cell_type": "markdown",
   "metadata": {},
   "source": [
    "##### Normalized Data"
   ]
  },
  {
   "cell_type": "code",
   "execution_count": 42,
   "metadata": {},
   "outputs": [
    {
     "name": "stdout",
     "output_type": "stream",
     "text": [
      "-----------------------------------------------\n",
      "Evaluation -\n",
      "Accuracy : 95.44%\n",
      "f1 score: 0.307\n",
      "-----------------------------------------------\n"
     ]
    },
    {
     "data": {
      "image/png": "[encoded data removed]",
      "text/plain": [
       "<Figure size 432x288 with 2 Axes>"
      ]
     },
     "metadata": {
      "needs_background": "light"
     },
     "output_type": "display_data"
    },
    {
     "name": "stdout",
     "output_type": "stream",
     "text": [
      "-----------------------------------------------\n"
     ]
    }
   ],
   "source": [
    "#Perform train/test split\n",
    "X_train, X_test, y_train, y_test = train_test_split(X_norm, Y_norm, test_size=0.2, random_state=0)\n",
    "\n",
    "#Create logistic regression object\n",
    "pitching_LogisticRegression_normByYear = linear_model.LogisticRegression()\n",
    "\n",
    "#Training\n",
    "pitching_LogisticRegression_normByYear.fit(X_train,y_train)\n",
    "\n",
    "#Prediction\n",
    "prediction = pitching_LogisticRegression_normByYear.predict(X_test)\n",
    "\n",
    "print(\"-----------------------------------------------\\nEvaluation -\")\n",
    "#Test accuracy\n",
    "print (\"Accuracy : {}%\".format(round(accuracy_score(y_test, prediction)*100,2)))\n",
    "\n",
    "#f1 score\n",
    "print('f1 score:',round(f1_score(y_test, prediction),3))\n",
    "print(\"-----------------------------------------------\")\n",
    "\n",
    "#Confusion matrix\n",
    "cm = confusion_matrix(y_test, prediction)\n",
    "disp = ConfusionMatrixDisplay(confusion_matrix=cm, display_labels=pitching_LogisticRegression_normByYear.classes_)\n",
    "disp.plot()\n",
    "disp.ax_.set_title(\"Logistic Regression: Normalized Confusion Matrix\")\n",
    "plt.show()\n",
    "print(\"-----------------------------------------------\")\n"
   ]
  },
  {
   "attachments": {},
   "cell_type": "markdown",
   "metadata": {},
   "source": [
    "##### Balanced Data"
   ]
  },
  {
   "cell_type": "code",
   "execution_count": 43,
   "metadata": {},
   "outputs": [
    {
     "name": "stdout",
     "output_type": "stream",
     "text": [
      "-----------------------------------------------\n",
      "Evaluation -\n",
      "Accuracy : 81.29%\n",
      "f1 score: 0.303\n",
      "-----------------------------------------------\n"
     ]
    },
    {
     "data": {
      "image/png": "[encoded data removed]",
      "text/plain": [
       "<Figure size 432x288 with 2 Axes>"
      ]
     },
     "metadata": {
      "needs_background": "light"
     },
     "output_type": "display_data"
    },
    {
     "name": "stdout",
     "output_type": "stream",
     "text": [
      "-----------------------------------------------\n"
     ]
    }
   ],
   "source": [
    "#Perform train/test split\n",
    "X_train, X_test, y_train, y_test = train_test_split(X, Y, test_size=0.2, random_state=0)\n",
    "\n",
    "#Create logistic regression object\n",
    "pitching_LogisticRegression_Balanced = linear_model.LogisticRegression(class_weight='balanced')\n",
    "\n",
    "#Training\n",
    "pitching_LogisticRegression_Balanced.fit(X_train,y_train)\n",
    "\n",
    "#Prediction\n",
    "prediction = pitching_LogisticRegression_Balanced.predict(X_test)\n",
    "\n",
    "print(\"-----------------------------------------------\\nEvaluation -\")\n",
    "#Test accuracy\n",
    "print (\"Accuracy : {}%\".format(round(accuracy_score(y_test, prediction)*100,2)))\n",
    "\n",
    "#f1 score\n",
    "print('f1 score:',round(f1_score(y_test, prediction),3))\n",
    "print(\"-----------------------------------------------\")\n",
    "\n",
    "#Confusion matrix\n",
    "cm = confusion_matrix(y_test, prediction)\n",
    "disp = ConfusionMatrixDisplay(confusion_matrix=cm, display_labels=pitching_LogisticRegression_Balanced.classes_)\n",
    "disp.plot()\n",
    "disp.ax_.set_title(\"Logistic Regression: Balanced Confusion Matrix\")\n",
    "plt.show()\n",
    "print(\"-----------------------------------------------\")"
   ]
  },
  {
   "attachments": {},
   "cell_type": "markdown",
   "metadata": {},
   "source": [
    "Interestingly, we see that the accuracy of the model is high without accounting for class imbalance. However, the f1 score is fairly low, suggesting it doesn't do well with the smaller class. Balancing the class weight hardly affects the f1 score and sacrifices model accuracy in exchange."
   ]
  },
  {
   "attachments": {},
   "cell_type": "markdown",
   "metadata": {},
   "source": [
    "### Part 6: Conclusion\n",
    "I mentioned in my midway status report that model choice was slowing me down as I was unsure how to proceed without a chosen model in mind. I'm happy with my decision to heavily curate the data first and test a few different models afterwards. Using a combination of accuracy, f1 score, and confusion matrix analysis, it became clear in the end that a decision tree classifier was best suited for this data. Improving upon both the accuracy and f1 score via oversampling the smaller class was a key distinguishing factor between these models, as it became clear that a decision tree worked better to balance the classes. It might be worth it to note as well that I attempted a clustering model that did show a cluster of results, however the need for a principle component analysis to dimension reduce the data made the model uninterpretable. If I want to do something like this in the future, I'd likely need to condense the data first into something more indicative of overall performance so that a 2D or 3D representation of the data is readable. I've chosen to exclude this block of code since it became somewhat irrelevant.\n",
    "\n",
    "I'd be curious to see how this model performs with live data. One of the reasons I used the normalized data in the oversampled model was because all star selection happens mid season and so performance relative to peers would be more generalizable than full season aggregate stats when applying this model.\n",
    "\n",
    "In the future, more stats may be added to further increase the accuracy of this model. One issue with this is that new stats may not be retroactively available for players in the early-mid 1900s, suggesting that a model the excludes outdated data may function better. "
   ]
  }
 ],
 "metadata": {
  "kernelspec": {
   "display_name": "Python 3.10.1 ('minimal_ds')",
   "language": "python",
   "name": "python3"
  },
  "language_info": {
   "codemirror_mode": {
    "name": "ipython",
    "version": 3
   },
   "file_extension": ".py",
   "mimetype": "text/x-python",
   "name": "python",
   "nbconvert_exporter": "python",
   "pygments_lexer": "ipython3",
   "version": "3.10.1 | packaged by conda-forge | (main, Dec 22 2021, 01:33:54) [MSC v.1929 64 bit (AMD64)]"
  },
  "orig_nbformat": 4,
  "vscode": {
   "interpreter": {
    "hash": "d46f233139e0e72eea527863f8f4e77d8207d6b4f892315dbbb83261bf3892a5"
   }
  }
 },
 "nbformat": 4,
 "nbformat_minor": 2
}
